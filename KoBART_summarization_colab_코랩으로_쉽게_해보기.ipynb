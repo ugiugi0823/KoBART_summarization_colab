{
  "nbformat": 4,
  "nbformat_minor": 0,
  "metadata": {
    "colab": {
      "provenance": [],
      "machine_shape": "hm"
    },
    "kernelspec": {
      "name": "python3",
      "display_name": "Python 3"
    },
    "language_info": {
      "name": "python"
    },
    "accelerator": "GPU",
    "gpuClass": "standard"
  },
  "cells": [
    {
      "cell_type": "markdown",
      "source": [
        "# KoBART_summarization\n",
        "\n",
        "\n",
        "🔥🔥🔥🔥🔥🔥🔥🔥🔥🔥🔥🔥🔥🔥🔥🔥🔥🔥🔥🔥🔥\n",
        "- Please execute in order unconditionally!\n",
        "- 무조건 순서대로 실행해주세요!\n",
        "\n",
        "🔥🔥🔥🔥🔥🔥🔥🔥🔥🔥🔥🔥🔥🔥🔥🔥🔥🔥🔥🔥🔥"
      ],
      "metadata": {
        "id": "uAnxTi7iUgFy"
      }
    },
    {
      "cell_type": "markdown",
      "source": [
        "## Requirements"
      ],
      "metadata": {
        "id": "1bPehWJ1UrSF"
      }
    },
    {
      "cell_type": "code",
      "execution_count": null,
      "metadata": {
        "id": "CNAdvv0e4o-8"
      },
      "outputs": [],
      "source": [
        "!pip install pyngrok\n",
        "!git clone https://github.com/ugiugi0823/KoBART-summarization.git\n",
        "!pip install git+https://github.com/SKT-AI/KoBART#egg=kobart\n",
        "\n",
        "!pip install streamlit==1.1.0\n",
        "!pip install torchmetrics==0.6.0\n",
        "!pip install torchtext==0.11.0\n",
        "!pip install torchvision==0.11.2\n",
        "!pip install pytorch-lightning==1.3.8\n",
        "\n",
        "\n",
        "!pip install torch==1.10.1\n",
        "!pip install pandas==1.4.4\n",
        "!pip install transformers==4.8.2\n",
        "\n"
      ]
    },
    {
      "cell_type": "markdown",
      "source": [
        "🔥🔥🔥🔥🔥🔥🔥🔥🔥🔥🔥🔥🔥🔥🔥🔥🔥🔥🔥🔥🔥\n",
        "### (🔥Caution🔥) Runtime Restart\n",
        "🔥🔥🔥🔥🔥🔥🔥🔥🔥🔥🔥🔥🔥🔥🔥🔥🔥🔥🔥🔥🔥"
      ],
      "metadata": {
        "id": "irLgNW8mHvBg"
      }
    },
    {
      "cell_type": "code",
      "source": [
        "import pandas\n",
        "import torch\n",
        "import transformers\n",
        "import streamlit\n",
        "import torchtext\n",
        "import torchvision\n"
      ],
      "metadata": {
        "id": "agtzA28-5hi5"
      },
      "execution_count": 1,
      "outputs": []
    },
    {
      "cell_type": "markdown",
      "source": [
        "🔥🔥🔥🔥🔥🔥🔥🔥🔥🔥🔥🔥🔥🔥🔥🔥🔥🔥🔥🔥🔥\n",
        "### (🔥Caution🔥) Runtime Restart one more\n",
        "🔥🔥🔥🔥🔥🔥🔥🔥🔥🔥🔥🔥🔥🔥🔥🔥🔥🔥🔥🔥🔥\n",
        "\n",
        "\n",
        "\n",
        "\n"
      ],
      "metadata": {
        "id": "ryLVdD9gIO0Q"
      }
    },
    {
      "cell_type": "code",
      "source": [
        "import pytorch_lightning \n",
        "import torchmetrics"
      ],
      "metadata": {
        "id": "htgRcBb46QK9"
      },
      "execution_count": 1,
      "outputs": []
    },
    {
      "cell_type": "markdown",
      "source": [
        "### Version Final Check\n",
        "```\n",
        "pandas==1.4.4\n",
        "torch==1.10.1\n",
        "transformers==4.8.2\n",
        "streamlit==1.1.0\n",
        "torchmetrics==0.6.0\n",
        "torchtext==0.11.0\n",
        "torchvision==0.11.2\n",
        "pytorch-lightning==1.3.8\n",
        "```"
      ],
      "metadata": {
        "id": "MAddEydyISR4"
      }
    },
    {
      "cell_type": "code",
      "source": [
        "import pandas\n",
        "import torch\n",
        "import transformers\n",
        "import streamlit\n",
        "import torchtext\n",
        "import torchvision\n",
        "\n",
        "import pytorch_lightning \n",
        "import torchmetrics\n",
        "\n",
        "\n",
        "print('pandas : ', pandas.__version__)\n",
        "print('torch : ',torch.__version__)\n",
        "print('transformers : ',transformers.__version__)\n",
        "print('streamlit : ', streamlit.__version__)\n",
        "print('torchtext : ',torchtext.__version__)\n",
        "print('torchvision : ',torchvision.__version__)\n",
        "\n",
        "print('pytorch_lightning : ', pytorch_lightning.__version__)\n",
        "print('torchmetrics : ', torchmetrics.__version__)\n"
      ],
      "metadata": {
        "colab": {
          "base_uri": "https://localhost:8080/"
        },
        "id": "CM2gMDzt5f3k",
        "outputId": "6898823f-28cd-4c0a-c969-c3d90a83d744"
      },
      "execution_count": 2,
      "outputs": [
        {
          "output_type": "stream",
          "name": "stdout",
          "text": [
            "pandas :  1.4.4\n",
            "torch :  1.10.1+cu102\n",
            "transformers :  4.8.2\n",
            "streamlit :  1.1.0\n",
            "torchtext :  0.11.0\n",
            "torchvision :  0.11.2+cu102\n",
            "pytorch_lightning :  1.3.8\n",
            "torchmetrics :  0.6.0\n"
          ]
        }
      ]
    },
    {
      "cell_type": "markdown",
      "source": [
        "### Data "
      ],
      "metadata": {
        "id": "nzLbjvGTViI9"
      }
    },
    {
      "cell_type": "code",
      "source": [
        "%cd /content/KoBART-summarization/data\n",
        "!gdown '17rA21yHFJjpC8cBMN_j4XQDA8UhHNYgw&confirm=t'\n",
        "!gdown '1IppX5Syt1JLc_aznw5nChTf7XMxj371Y&confirm=t'\n",
        "!tar -xvzf train.tar.gz\n",
        "!tar -xvzf test.tar.gz"
      ],
      "metadata": {
        "colab": {
          "base_uri": "https://localhost:8080/"
        },
        "id": "UZ7F0RchVkJs",
        "outputId": "07bfb00a-491d-434a-d00d-3964e21b0618"
      },
      "execution_count": 10,
      "outputs": [
        {
          "output_type": "stream",
          "name": "stdout",
          "text": [
            "/content/KoBART-summarization/data\n",
            "Downloading...\n",
            "From: https://drive.google.com/uc?id=17rA21yHFJjpC8cBMN_j4XQDA8UhHNYgw&confirm=t\n",
            "To: /content/KoBART-summarization/data/train.tar.gz\n",
            "100% 31.1M/31.1M [00:00<00:00, 242MB/s]\n",
            "Downloading...\n",
            "From: https://drive.google.com/uc?id=1IppX5Syt1JLc_aznw5nChTf7XMxj371Y&confirm=t\n",
            "To: /content/KoBART-summarization/data/test.tar.gz\n",
            "100% 7.71M/7.71M [00:00<00:00, 223MB/s]\n"
          ]
        }
      ]
    },
    {
      "cell_type": "markdown",
      "source": [
        "### Model Download"
      ],
      "metadata": {
        "id": "Niu63vjOZit_"
      }
    },
    {
      "cell_type": "code",
      "source": [
        "%cd /content/KoBART-summarization\n",
        "# model.bin\n",
        "# !gdown '1-_G9u8bxwtdgy1AfHTeL1ngFpiVyFevd&confirm=t'\n",
        "\n",
        "\n",
        "# yaml\n",
        "!gdown '1-OwSnVcEVbUCEu7I9RNC1M-tDNcUtDwS&confirm=t'\n",
        "# ckpt\n",
        "!gdown '1-SmfNmVtr74CkqPmjcAgZsqsxHCKlUzD&confirm=t'"
      ],
      "metadata": {
        "colab": {
          "base_uri": "https://localhost:8080/"
        },
        "id": "T4FjGxMwZmn8",
        "outputId": "e0875856-74f0-4d4f-cc23-97b14424fd87"
      },
      "execution_count": 22,
      "outputs": [
        {
          "output_type": "stream",
          "name": "stdout",
          "text": [
            "/content/KoBART-summarization\n",
            "Downloading...\n",
            "From: https://drive.google.com/uc?id=1-OwSnVcEVbUCEu7I9RNC1M-tDNcUtDwS&confirm=t\n",
            "To: /content/KoBART-summarization/hparams.yaml\n",
            "100% 1.23k/1.23k [00:00<00:00, 2.65MB/s]\n",
            "Downloading...\n",
            "From: https://drive.google.com/uc?id=1-SmfNmVtr74CkqPmjcAgZsqsxHCKlUzD&confirm=t\n",
            "To: /content/KoBART-summarization/epoch01-val_loss1.337.ckpt\n",
            "100% 1.49G/1.49G [00:05<00:00, 261MB/s]\n"
          ]
        }
      ]
    },
    {
      "cell_type": "markdown",
      "source": [
        "## Our Project"
      ],
      "metadata": {
        "id": "9egtUbS_Uexj"
      }
    },
    {
      "cell_type": "markdown",
      "source": [
        "### make model.bin"
      ],
      "metadata": {
        "id": "oFTNdDigayWg"
      }
    },
    {
      "cell_type": "code",
      "source": [
        "%cd /content/KoBART-summarization\n",
        "cmd = '''python get_model_binary.py --hparams /content/KoBART-summarization/hparams.yaml \\\n",
        "                                 --model_binary /content/KoBART-summarization/epoch01-val_loss1.337.ckpt \\\n",
        "                                 --output_dir /content/KoBART-summarization/model \\\n",
        "'''\n",
        "!{cmd}"
      ],
      "metadata": {
        "colab": {
          "base_uri": "https://localhost:8080/"
        },
        "id": "cgTXqgS0a3Of",
        "outputId": "c5fb6611-f93d-4763-b2d9-3c15fcf9686e"
      },
      "execution_count": 25,
      "outputs": [
        {
          "output_type": "stream",
          "name": "stdout",
          "text": [
            "2023-03-30 02:57:04.572596: W tensorflow/compiler/xla/stream_executor/platform/default/dso_loader.cc:64] Could not load dynamic library 'libnvinfer.so.7'; dlerror: libnvinfer.so.7: cannot open shared object file: No such file or directory; LD_LIBRARY_PATH: /usr/lib64-nvidia\n",
            "2023-03-30 02:57:04.572708: W tensorflow/compiler/xla/stream_executor/platform/default/dso_loader.cc:64] Could not load dynamic library 'libnvinfer_plugin.so.7'; dlerror: libnvinfer_plugin.so.7: cannot open shared object file: No such file or directory; LD_LIBRARY_PATH: /usr/lib64-nvidia\n",
            "2023-03-30 02:57:04.572726: W tensorflow/compiler/tf2tensorrt/utils/py_utils.cc:38] TF-TRT Warning: Cannot dlopen some TensorRT libraries. If you would like to use Nvidia GPU with TensorRT, please make sure the missing libraries mentioned above are installed properly.\n"
          ]
        }
      ]
    },
    {
      "cell_type": "markdown",
      "source": [
        "### Start sever\n",
        "\n",
        "- [ngrok where to get tokens](https://developer-ping9.tistory.com/115)\n",
        "- [ngrok 토큰 얻는 곳](https://developer-ping9.tistory.com/115)"
      ],
      "metadata": {
        "id": "ZvIOy9fMZz92"
      }
    },
    {
      "cell_type": "code",
      "source": [
        "# 여러분들거 넣어주셔야 합니다!\n",
        "!ngrok authtoken 2NfOAjCOVKQZoAgel03VㅇㄴvgyM2_rPzKKk4qRwvQxswㅇㅇPSL"
      ],
      "metadata": {
        "colab": {
          "base_uri": "https://localhost:8080/"
        },
        "id": "HuXv6LyBUeze",
        "outputId": "6a389a15-932a-455e-8b92-1916eb75fb49"
      },
      "execution_count": 20,
      "outputs": [
        {
          "output_type": "stream",
          "name": "stdout",
          "text": [
            "Authtoken saved to configuration file: /root/.ngrok2/ngrok.yml\n"
          ]
        }
      ]
    },
    {
      "cell_type": "code",
      "source": [
        "from pyngrok import ngrok\n",
        "%cd /content/KoBART-summarization\n",
        "!streamlit run infer.py&>/dev/null&\n",
        "pub1_url = ngrok.connect(addr='8501')\n",
        "pub1_url"
      ],
      "metadata": {
        "id": "oMy6bjq3Ue1t"
      },
      "execution_count": null,
      "outputs": []
    },
    {
      "cell_type": "markdown",
      "source": [
        "### End sever\n",
        "- Please kill the server!\n",
        "- 꼭 서버 죽여주세요!"
      ],
      "metadata": {
        "id": "CUN44OkMdSX2"
      }
    },
    {
      "cell_type": "code",
      "source": [
        "!ps"
      ],
      "metadata": {
        "colab": {
          "base_uri": "https://localhost:8080/"
        },
        "id": "9OQnhphhUe7L",
        "outputId": "4d0831d2-bd5a-48d2-c405-8dc371cc4988"
      },
      "execution_count": 31,
      "outputs": [
        {
          "output_type": "stream",
          "name": "stdout",
          "text": [
            "    PID TTY          TIME CMD\n",
            "      1 ?        00:00:00 docker-init\n",
            "      7 ?        00:00:10 node\n",
            "     11 ?        00:00:02 oom_monitor.sh\n",
            "     13 ?        00:00:00 run.sh\n",
            "     14 ?        00:00:02 kernel_manager_\n",
            "     37 ?        00:00:00 tail\n",
            "     56 ?        00:00:04 python3 <defunct>\n",
            "     57 ?        00:00:00 colab-fileshim.\n",
            "     92 ?        00:00:07 jupyter-noteboo\n",
            "     93 ?        00:00:01 dap_multiplexer\n",
            "   7778 ?        00:00:29 python3\n",
            "   7801 ?        00:00:02 python3\n",
            "  17619 ?        00:00:15 streamlit\n",
            "  17620 ?        00:00:01 ngrok\n",
            "  18094 ?        00:00:00 node\n",
            "  18717 ?        00:00:00 sleep\n",
            "  18718 ?        00:00:00 ps\n"
          ]
        }
      ]
    },
    {
      "cell_type": "code",
      "source": [
        "# ex)\n",
        "# !ps check >>\n",
        "# 16557 ?        00:00:04 streamlit  >>\n",
        "# 16557 kill 해주세요!\n",
        "!kill 17620"
      ],
      "metadata": {
        "colab": {
          "base_uri": "https://localhost:8080/"
        },
        "id": "y88P7V3QUe-j",
        "outputId": "d68eb5bc-3599-4ce0-fb0f-bc9de9ae1dd0"
      },
      "execution_count": 32,
      "outputs": [
        {
          "output_type": "stream",
          "name": "stderr",
          "text": [
            "INFO:pyngrok.process.ngrok:t=2023-03-30T03:07:12+0000 lvl=info msg=\"received stop request\" obj=app stopReq=\"{err:<nil> restart:false}\"\n",
            "2023-03-30 03:07:12.736 INFO    pyngrok.process.ngrok: t=2023-03-30T03:07:12+0000 lvl=info msg=\"received stop request\" obj=app stopReq=\"{err:<nil> restart:false}\"\n"
          ]
        }
      ]
    },
    {
      "cell_type": "code",
      "source": [
        "ngrok.kill()"
      ],
      "metadata": {
        "colab": {
          "base_uri": "https://localhost:8080/"
        },
        "id": "VEvLwIRwUfBB",
        "outputId": "d2ad031a-a4ea-463f-98fa-dbaf27382ece"
      },
      "execution_count": 29,
      "outputs": [
        {
          "output_type": "stream",
          "name": "stderr",
          "text": [
            "INFO:pyngrok.process:Killing ngrok process: 16558\n",
            "2023-03-30 03:02:35.347 INFO    pyngrok.process: Killing ngrok process: 16558\n"
          ]
        }
      ]
    },
    {
      "cell_type": "code",
      "source": [],
      "metadata": {
        "id": "5vtn4zASUfDK"
      },
      "execution_count": null,
      "outputs": []
    },
    {
      "cell_type": "code",
      "source": [],
      "metadata": {
        "id": "7O4s8HRzUfFN"
      },
      "execution_count": null,
      "outputs": []
    },
    {
      "cell_type": "code",
      "source": [],
      "metadata": {
        "id": "-NuWYik1UfHq"
      },
      "execution_count": null,
      "outputs": []
    },
    {
      "cell_type": "code",
      "source": [],
      "metadata": {
        "id": "aP99aL7hUfKJ"
      },
      "execution_count": null,
      "outputs": []
    },
    {
      "cell_type": "code",
      "source": [],
      "metadata": {
        "id": "R_YTN002UfMv"
      },
      "execution_count": null,
      "outputs": []
    },
    {
      "cell_type": "code",
      "source": [],
      "metadata": {
        "id": "Tt9vLJWeUfOk"
      },
      "execution_count": null,
      "outputs": []
    },
    {
      "cell_type": "code",
      "source": [],
      "metadata": {
        "id": "2mB4XbvfUfQu"
      },
      "execution_count": null,
      "outputs": []
    },
    {
      "cell_type": "code",
      "source": [
        "# !pip freeze > requirements2.txt"
      ],
      "metadata": {
        "id": "uN_8fXim5f-X"
      },
      "execution_count": null,
      "outputs": []
    }
  ]
}